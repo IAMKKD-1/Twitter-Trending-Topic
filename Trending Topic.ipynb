{
 "cells": [
  {
   "cell_type": "markdown",
   "id": "aadea98a",
   "metadata": {},
   "source": [
    "## Importing necessary Libraries"
   ]
  },
  {
   "cell_type": "code",
   "execution_count": 1,
   "id": "8f92a7d9",
   "metadata": {},
   "outputs": [],
   "source": [
    "import tweepy"
   ]
  },
  {
   "cell_type": "markdown",
   "id": "5f69052b",
   "metadata": {},
   "source": [
    "## My API key"
   ]
  },
  {
   "cell_type": "code",
   "execution_count": 2,
   "id": "7698a5e4",
   "metadata": {},
   "outputs": [],
   "source": [
    "with open (\"Twitter API.txt\", \"r\") as myfile:\n",
    "    twitterapi = myfile.read().splitlines()"
   ]
  },
  {
   "cell_type": "markdown",
   "id": "53a6c7ff",
   "metadata": {},
   "source": [
    "## Setting up my API with Tweepy"
   ]
  },
  {
   "cell_type": "code",
   "execution_count": 3,
   "id": "d9f13fb5",
   "metadata": {},
   "outputs": [],
   "source": [
    "auth = tweepy.OAuthHandler(twitterapi[0],twitterapi[1])\n",
    "auth.set_access_token(twitterapi[2],twitterapi[3])\n",
    "api = tweepy.API(auth)"
   ]
  },
  {
   "cell_type": "markdown",
   "id": "69fca384",
   "metadata": {},
   "source": [
    "### India's Where on earth ID"
   ]
  },
  {
   "cell_type": "code",
   "execution_count": 4,
   "id": "d75c6efa",
   "metadata": {},
   "outputs": [],
   "source": [
    "india_woeid = 23424848"
   ]
  },
  {
   "cell_type": "markdown",
   "id": "981c9891",
   "metadata": {},
   "source": [
    "## Getting trending data from twitter"
   ]
  },
  {
   "cell_type": "code",
   "execution_count": 5,
   "id": "3694596d",
   "metadata": {},
   "outputs": [],
   "source": [
    "trending = api.get_place_trends(india_woeid)"
   ]
  },
  {
   "cell_type": "code",
   "execution_count": 6,
   "id": "7416a9e7",
   "metadata": {},
   "outputs": [],
   "source": [
    "trendingdict = {'Trending topic':[],'No. of tweets':[]}\n",
    "for trend in trending[0]['trends'][:10]:\n",
    "    trendingdict['Trending topic'].append(trend['name'])\n",
    "    trendingdict['No. of tweets'].append(trend['tweet_volume'])"
   ]
  },
  {
   "cell_type": "markdown",
   "id": "7687de92",
   "metadata": {},
   "source": [
    "## Visual Part"
   ]
  },
  {
   "cell_type": "code",
   "execution_count": 7,
   "id": "fbb4f17a",
   "metadata": {},
   "outputs": [],
   "source": [
    "import pandas as pd"
   ]
  },
  {
   "cell_type": "code",
   "execution_count": 8,
   "id": "bece5cb4",
   "metadata": {},
   "outputs": [],
   "source": [
    "Trending_Topics = pd.DataFrame(trendingdict)\n",
    "Trending_Topics = Trending_Topics.fillna('-')\n",
    "Trending_Topics.index = Trending_Topics.index + 1"
   ]
  },
  {
   "cell_type": "markdown",
   "id": "e3c7c593",
   "metadata": {},
   "source": [
    "## Top 10 Trending Topics in India"
   ]
  },
  {
   "cell_type": "code",
   "execution_count": 9,
   "id": "83540a49",
   "metadata": {},
   "outputs": [
    {
     "data": {
      "text/html": [
       "<div>\n",
       "<style scoped>\n",
       "    .dataframe tbody tr th:only-of-type {\n",
       "        vertical-align: middle;\n",
       "    }\n",
       "\n",
       "    .dataframe tbody tr th {\n",
       "        vertical-align: top;\n",
       "    }\n",
       "\n",
       "    .dataframe thead th {\n",
       "        text-align: right;\n",
       "    }\n",
       "</style>\n",
       "<table border=\"1\" class=\"dataframe\">\n",
       "  <thead>\n",
       "    <tr style=\"text-align: right;\">\n",
       "      <th></th>\n",
       "      <th>Trending topic</th>\n",
       "      <th>No. of tweets</th>\n",
       "    </tr>\n",
       "  </thead>\n",
       "  <tbody>\n",
       "    <tr>\n",
       "      <th>1</th>\n",
       "      <td>#मेरा_वोट_कमल_को</td>\n",
       "      <td>46187.0</td>\n",
       "    </tr>\n",
       "    <tr>\n",
       "      <th>2</th>\n",
       "      <td>#सामाजिक_परिवर्तन_मोर्चा</td>\n",
       "      <td>59397.0</td>\n",
       "    </tr>\n",
       "    <tr>\n",
       "      <th>3</th>\n",
       "      <td>#LucknowSuperGiants</td>\n",
       "      <td>-</td>\n",
       "    </tr>\n",
       "    <tr>\n",
       "      <th>4</th>\n",
       "      <td>#DhamiSpeaksToPradeep</td>\n",
       "      <td>-</td>\n",
       "    </tr>\n",
       "    <tr>\n",
       "      <th>5</th>\n",
       "      <td>#GirlChildDayOnSwasthBharat</td>\n",
       "      <td>-</td>\n",
       "    </tr>\n",
       "    <tr>\n",
       "      <th>6</th>\n",
       "      <td>BOLLYWOOD WILL COLLAPSE</td>\n",
       "      <td>17995.0</td>\n",
       "    </tr>\n",
       "    <tr>\n",
       "      <th>7</th>\n",
       "      <td>Protect Rights Of Disha Jiah</td>\n",
       "      <td>-</td>\n",
       "    </tr>\n",
       "    <tr>\n",
       "      <th>8</th>\n",
       "      <td>Mera Vote Kamal Ko</td>\n",
       "      <td>10996.0</td>\n",
       "    </tr>\n",
       "    <tr>\n",
       "      <th>9</th>\n",
       "      <td>RPSG</td>\n",
       "      <td>-</td>\n",
       "    </tr>\n",
       "    <tr>\n",
       "      <th>10</th>\n",
       "      <td>OMG UMAR IS SHIRTLESS</td>\n",
       "      <td>209044.0</td>\n",
       "    </tr>\n",
       "  </tbody>\n",
       "</table>\n",
       "</div>"
      ],
      "text/plain": [
       "                  Trending topic No. of tweets\n",
       "1               #मेरा_वोट_कमल_को       46187.0\n",
       "2       #सामाजिक_परिवर्तन_मोर्चा       59397.0\n",
       "3            #LucknowSuperGiants             -\n",
       "4          #DhamiSpeaksToPradeep             -\n",
       "5    #GirlChildDayOnSwasthBharat             -\n",
       "6        BOLLYWOOD WILL COLLAPSE       17995.0\n",
       "7   Protect Rights Of Disha Jiah             -\n",
       "8             Mera Vote Kamal Ko       10996.0\n",
       "9                           RPSG             -\n",
       "10         OMG UMAR IS SHIRTLESS      209044.0"
      ]
     },
     "execution_count": 9,
     "metadata": {},
     "output_type": "execute_result"
    }
   ],
   "source": [
    "Trending_Topics"
   ]
  }
 ],
 "metadata": {
  "kernelspec": {
   "display_name": "Python 3 (ipykernel)",
   "language": "python",
   "name": "python3"
  },
  "language_info": {
   "codemirror_mode": {
    "name": "ipython",
    "version": 3
   },
   "file_extension": ".py",
   "mimetype": "text/x-python",
   "name": "python",
   "nbconvert_exporter": "python",
   "pygments_lexer": "ipython3",
   "version": "3.8.8"
  }
 },
 "nbformat": 4,
 "nbformat_minor": 5
}
